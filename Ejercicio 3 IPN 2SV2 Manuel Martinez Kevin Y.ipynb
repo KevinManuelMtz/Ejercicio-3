{
  "nbformat": 4,
  "nbformat_minor": 0,
  "metadata": {
    "colab": {
      "name": "Ejercicio 3.ipynb",
      "provenance": [],
      "collapsed_sections": []
    },
    "kernelspec": {
      "name": "python3",
      "display_name": "Python 3"
    }
  },
  "cells": [
    {
      "cell_type": "code",
      "metadata": {
        "id": "ojRQenlTU7I-",
        "outputId": "a0ebcddc-8242-4e02-bf35-92b849c0e161",
        "colab": {
          "base_uri": "https://localhost:8080/"
        }
      },
      "source": [
        "def pago(d,s,m):\n",
        "  print(\"El empleado ganara\")\n",
        "  print(\"Ganancia por dia :\",d,)\n",
        "  print(\"Ganancia por semana :\",s,)\n",
        "  print(\"Ganancia por mes :\",m,) \n",
        "  return \n",
        "\n",
        "costo = int (150)\n",
        "print(\"Costo por hora es 150 pesos\")\n",
        "h = int(input(\"Ingrese el numero de horas :\"))\n",
        "tp = (costo*h)\n",
        "print(\"Total a pagar es :\" ,tp, \"pesos\")\n",
        "d = (costo*8)\n",
        "s = (d*5)\n",
        "m = (s*4)\n",
        "pago(d,s,m)"
      ],
      "execution_count": 1,
      "outputs": [
        {
          "output_type": "stream",
          "text": [
            "Costo por hora es 150 pesos\n",
            "Ingrese el numero de horas :3\n",
            "Total a pagar es : 450 pesos\n",
            "El empleado ganara\n",
            "Ganancia por dia : 1200\n",
            "Ganancia por semana : 6000\n",
            "Ganancia por mes : 120000\n"
          ],
          "name": "stdout"
        }
      ]
    }
  ]
}